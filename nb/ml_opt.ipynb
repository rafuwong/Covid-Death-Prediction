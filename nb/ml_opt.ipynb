{
 "cells": [
  {
   "cell_type": "code",
   "execution_count": 1,
   "id": "46c1a7b7-e5a0-4845-9e9d-37bfb025bbc2",
   "metadata": {},
   "outputs": [],
   "source": [
    "# import statements\n",
    "import torch\n",
    "import matplotlib.pyplot as plt\n",
    "import pandas as pd"
   ]
  },
  {
   "cell_type": "code",
   "execution_count": null,
   "id": "e5779896-6fbd-4029-92ab-0f4f9ee0cdd9",
   "metadata": {},
   "outputs": [],
   "source": [
    "def f(x):\n",
    "    return (x - 1) * (x + 2) * (x - 3) * (x + 6)\n",
    "# plotting of the function\n",
    "x = torch.arange(-8, 5, 0.1)\n",
    "y = f(x)\n",
    "plt.plot(x, y)\n",
    "\n",
    "# Objective: try to find a good x value, to make y small\n",
    "x = torch.tensor(0.0, requires_grad=True)\n",
    "optimizer = torch.optim.SGD([x], lr=0.01)   # minimizes by default\n",
    "\n",
    "for epoch in range(10):\n",
    "    y = f(x)\n",
    "    plt.plot(x.detach(), y.detach(), \"ro\", markersize=3+epoch)\n",
    "    y.backward()\n",
    "    optimizer.step()\n",
    "    optimizer.zero_grad()\n",
    "x"
   ]
  },
  {
   "cell_type": "markdown",
   "id": "3d0d4078-ad6c-413d-82f2-b913f4205241",
   "metadata": {},
   "source": [
    "## Train a Model using Iris dataset"
   ]
  },
  {
   "cell_type": "code",
   "execution_count": 2,
   "id": "fab81f6e-8c7f-4d69-9eb0-48ae031e94fe",
   "metadata": {},
   "outputs": [
    {
     "data": {
      "text/plain": [
       "<Axes: xlabel='petlen', ylabel='petwid'>"
      ]
     },
     "execution_count": 2,
     "metadata": {},
     "output_type": "execute_result"
    },
    {
     "data": {
      "image/png": "[encoded data removed]",
      "text/plain": [
       "<Figure size 640x480 with 1 Axes>"
      ]
     },
     "metadata": {},
     "output_type": "display_data"
    }
   ],
   "source": [
    "df = pd.read_csv(\"https://archive.ics.uci.edu/ml/machine-learning-databases/iris/iris.data\",\n",
    "                 names=[\"seplen\", \"sepwid\", \"petlen\", \"petwid\", \"variety\"])\n",
    "df.plot.scatter(x=\"petlen\", y=\"petwid\")"
   ]
  },
  {
   "cell_type": "markdown",
   "id": "317230dc-9e2d-41ee-a36c-a39dd1889e99",
   "metadata": {},
   "source": [
    "DataFrame slicing and `numpy` conversion\n",
    "\n",
    "Syntax:\n",
    "- `<dataframe>.loc[<ROW SLICE>:<COL SLICE>]`\n",
    "- `<dataframe>.values`"
   ]
  },
  {
   "cell_type": "code",
   "execution_count": 3,
   "id": "9e964fd9-5969-4d48-a379-d427e5f90773",
   "metadata": {},
   "outputs": [],
   "source": [
    "#df.loc[:, \"seplen\":\"petlen\"].values"
   ]
  },
  {
   "cell_type": "code",
   "execution_count": 4,
   "id": "32902181-6c28-4e84-8290-3c65fa690523",
   "metadata": {},
   "outputs": [],
   "source": [
    "# Create TensorDataset using two tensors for X values and Y values\n",
    "ds = torch.utils.data.TensorDataset(\n",
    "    torch.tensor(df.loc[:, \"seplen\":\"petlen\"].values), # X values\n",
    "    torch.tensor(df.loc[:, [\"petwid\"]].values) # Y values\n",
    ")"
   ]
  },
  {
   "cell_type": "code",
   "execution_count": 5,
   "id": "c66de03d-a253-4686-84db-855b54bc4076",
   "metadata": {},
   "outputs": [],
   "source": [
    "X, Y = ds[:5]"
   ]
  },
  {
   "cell_type": "code",
   "execution_count": 6,
   "id": "08bd35c7-3e72-4551-8897-84739f2badcb",
   "metadata": {},
   "outputs": [
    {
     "data": {
      "text/plain": [
       "tensor([[5.1000, 3.5000, 1.4000],\n",
       "        [4.9000, 3.0000, 1.4000],\n",
       "        [4.7000, 3.2000, 1.3000],\n",
       "        [4.6000, 3.1000, 1.5000],\n",
       "        [5.0000, 3.6000, 1.4000]], dtype=torch.float64)"
      ]
     },
     "execution_count": 6,
     "metadata": {},
     "output_type": "execute_result"
    }
   ],
   "source": [
    "X"
   ]
  },
  {
   "cell_type": "code",
   "execution_count": 7,
   "id": "3051c540-e3ac-46a4-a3f1-15113bb3b0bb",
   "metadata": {},
   "outputs": [
    {
     "data": {
      "text/plain": [
       "tensor([[0.2000],\n",
       "        [0.2000],\n",
       "        [0.2000],\n",
       "        [0.2000],\n",
       "        [0.2000]], dtype=torch.float64)"
      ]
     },
     "execution_count": 7,
     "metadata": {},
     "output_type": "execute_result"
    }
   ],
   "source": [
    "Y"
   ]
  },
  {
   "cell_type": "code",
   "execution_count": 8,
   "id": "db674a7f-0220-4501-a159-30ed93928d59",
   "metadata": {},
   "outputs": [],
   "source": [
    "# Spit train and test using 75%-25% split\n",
    "train, test = torch.utils.data.random_split(ds, [0.75, 0.25])"
   ]
  },
  {
   "cell_type": "code",
   "execution_count": 9,
   "id": "927c9fae-078f-4a45-b87a-c2b71af4af51",
   "metadata": {},
   "outputs": [
    {
     "data": {
      "text/plain": [
       "tensor([[6.5000, 3.2000, 5.1000],\n",
       "        [6.4000, 3.2000, 4.5000],\n",
       "        [5.6000, 2.7000, 4.2000],\n",
       "        [5.2000, 2.7000, 3.9000],\n",
       "        [7.7000, 3.8000, 6.7000]], dtype=torch.float64)"
      ]
     },
     "execution_count": 9,
     "metadata": {},
     "output_type": "execute_result"
    }
   ],
   "source": [
    "batchX, batchY = train[0:5]\n",
    "batchX"
   ]
  },
  {
   "cell_type": "code",
   "execution_count": 10,
   "id": "1c08e7d7-9b2d-44ea-91e1-5cf7662f1640",
   "metadata": {},
   "outputs": [
    {
     "data": {
      "text/plain": [
       "tensor([[2.0000],\n",
       "        [1.5000],\n",
       "        [1.3000],\n",
       "        [1.4000],\n",
       "        [2.2000]], dtype=torch.float64)"
      ]
     },
     "execution_count": 10,
     "metadata": {},
     "output_type": "execute_result"
    }
   ],
   "source": [
    "batchY"
   ]
  },
  {
   "cell_type": "code",
   "execution_count": 11,
   "id": "97d15b7a-dac2-4f38-b192-caffdb24c8e8",
   "metadata": {},
   "outputs": [],
   "source": [
    "# DataLoader - creates batches while handling shuffling\n",
    "dl = torch.utils.data.DataLoader(train, batch_size=5, shuffle=True)"
   ]
  },
  {
   "cell_type": "code",
   "execution_count": 16,
   "id": "0447391e-998c-4134-99f4-bcf0865e8df8",
   "metadata": {},
   "outputs": [
    {
     "name": "stdout",
     "output_type": "stream",
     "text": [
      "tensor([[6.1000, 2.6000, 5.6000],\n",
      "        [5.7000, 2.6000, 3.5000],\n",
      "        [4.7000, 3.2000, 1.3000],\n",
      "        [5.0000, 3.3000, 1.4000],\n",
      "        [4.8000, 3.4000, 1.6000]], dtype=torch.float64)\n",
      "tensor([[1.4000],\n",
      "        [1.0000],\n",
      "        [0.2000],\n",
      "        [0.2000],\n",
      "        [0.2000]], dtype=torch.float64)\n"
     ]
    }
   ],
   "source": [
    "# Let's print just the first batch\n",
    "for batchX, batchY in dl:\n",
    "    print(batchX)\n",
    "    print(batchY)\n",
    "    break"
   ]
  },
  {
   "cell_type": "code",
   "execution_count": 17,
   "id": "978b31d0-5987-4d44-8b44-a3392d4d31d1",
   "metadata": {},
   "outputs": [
    {
     "data": {
      "text/plain": [
       "torch.Size([5, 3])"
      ]
     },
     "execution_count": 17,
     "metadata": {},
     "output_type": "execute_result"
    }
   ],
   "source": [
    "# X's shape\n",
    "batchX.shape"
   ]
  },
  {
   "cell_type": "code",
   "execution_count": 18,
   "id": "ad947b06-334a-42cb-99db-be2e86938bd5",
   "metadata": {},
   "outputs": [
    {
     "data": {
      "text/plain": [
       "torch.Size([5, 1])"
      ]
     },
     "execution_count": 18,
     "metadata": {},
     "output_type": "execute_result"
    }
   ],
   "source": [
    "# Y's shape\n",
    "batchY.shape"
   ]
  },
  {
   "cell_type": "markdown",
   "id": "50f20f9a-dddf-493a-a554-8cc0c5508537",
   "metadata": {},
   "source": [
    "Let's initialize our co-efficients tensor using zero values. What should the shape be?"
   ]
  },
  {
   "cell_type": "code",
   "execution_count": 19,
   "id": "d8c2eb4e-39e2-44df-a9d1-718eeab83314",
   "metadata": {},
   "outputs": [
    {
     "data": {
      "text/plain": [
       "tensor([[0.],\n",
       "        [0.],\n",
       "        [0.]], dtype=torch.float64)"
      ]
     },
     "execution_count": 19,
     "metadata": {},
     "output_type": "execute_result"
    }
   ],
   "source": [
    "coef = torch.zeros((3, 1), dtype=torch.float64)\n",
    "coef"
   ]
  },
  {
   "cell_type": "markdown",
   "id": "e3456d20-22fe-4de4-9d54-097569fba0d4",
   "metadata": {},
   "source": [
    "Let's apply matrix multiplication for making our initial predictions."
   ]
  },
  {
   "cell_type": "code",
   "execution_count": 20,
   "id": "f9634964-06fe-4baf-b2b5-9bd0d0826db7",
   "metadata": {},
   "outputs": [
    {
     "data": {
      "text/plain": [
       "tensor([[0.],\n",
       "        [0.],\n",
       "        [0.],\n",
       "        [0.],\n",
       "        [0.]], dtype=torch.float64)"
      ]
     },
     "execution_count": 20,
     "metadata": {},
     "output_type": "execute_result"
    }
   ],
   "source": [
    "predictions = batchX @ coef # we need double precision float\n",
    "predictions"
   ]
  },
  {
   "cell_type": "code",
   "execution_count": 22,
   "id": "32cdfee8-4d8f-486b-85e5-865aa8f3aead",
   "metadata": {},
   "outputs": [
    {
     "data": {
      "text/plain": [
       "<torch.utils.data.dataset.Subset at 0x7f0f12325590>"
      ]
     },
     "execution_count": 22,
     "metadata": {},
     "output_type": "execute_result"
    }
   ],
   "source": []
  },
  {
   "cell_type": "markdown",
   "id": "0674c17d-fbf1-4f76-b516-80b5a45c659e",
   "metadata": {},
   "source": [
    "#### Loss function - MSELoss"
   ]
  },
  {
   "cell_type": "code",
   "execution_count": 21,
   "id": "8b9a0387-d91a-4223-ba3e-2c80d0dbfc31",
   "metadata": {},
   "outputs": [
    {
     "name": "stdout",
     "output_type": "stream",
     "text": [
      "tensor(0.2658, dtype=torch.float64, grad_fn=<MseLossBackward0>)\n",
      "tensor(0.2240, dtype=torch.float64, grad_fn=<MseLossBackward0>)\n",
      "tensor(0.1943, dtype=torch.float64, grad_fn=<MseLossBackward0>)\n",
      "tensor(0.1720, dtype=torch.float64, grad_fn=<MseLossBackward0>)\n",
      "tensor(0.1546, dtype=torch.float64, grad_fn=<MseLossBackward0>)\n",
      "tensor(0.1379, dtype=torch.float64, grad_fn=<MseLossBackward0>)\n",
      "tensor(0.1250, dtype=torch.float64, grad_fn=<MseLossBackward0>)\n",
      "tensor(0.1126, dtype=torch.float64, grad_fn=<MseLossBackward0>)\n",
      "tensor(0.1034, dtype=torch.float64, grad_fn=<MseLossBackward0>)\n",
      "tensor(0.0955, dtype=torch.float64, grad_fn=<MseLossBackward0>)\n",
      "tensor(0.0883, dtype=torch.float64, grad_fn=<MseLossBackward0>)\n",
      "tensor(0.0822, dtype=torch.float64, grad_fn=<MseLossBackward0>)\n",
      "tensor(0.0775, dtype=torch.float64, grad_fn=<MseLossBackward0>)\n",
      "tensor(0.0733, dtype=torch.float64, grad_fn=<MseLossBackward0>)\n",
      "tensor(0.0696, dtype=torch.float64, grad_fn=<MseLossBackward0>)\n",
      "tensor(0.0683, dtype=torch.float64, grad_fn=<MseLossBackward0>)\n",
      "tensor(0.0640, dtype=torch.float64, grad_fn=<MseLossBackward0>)\n",
      "tensor(0.0619, dtype=torch.float64, grad_fn=<MseLossBackward0>)\n",
      "tensor(0.0602, dtype=torch.float64, grad_fn=<MseLossBackward0>)\n",
      "tensor(0.0593, dtype=torch.float64, grad_fn=<MseLossBackward0>)\n",
      "tensor(0.0571, dtype=torch.float64, grad_fn=<MseLossBackward0>)\n",
      "tensor(0.0564, dtype=torch.float64, grad_fn=<MseLossBackward0>)\n",
      "tensor(0.0549, dtype=torch.float64, grad_fn=<MseLossBackward0>)\n",
      "tensor(0.0541, dtype=torch.float64, grad_fn=<MseLossBackward0>)\n",
      "tensor(0.0533, dtype=torch.float64, grad_fn=<MseLossBackward0>)\n",
      "tensor(0.0535, dtype=torch.float64, grad_fn=<MseLossBackward0>)\n",
      "tensor(0.0522, dtype=torch.float64, grad_fn=<MseLossBackward0>)\n",
      "tensor(0.0517, dtype=torch.float64, grad_fn=<MseLossBackward0>)\n",
      "tensor(0.0514, dtype=torch.float64, grad_fn=<MseLossBackward0>)\n",
      "tensor(0.0528, dtype=torch.float64, grad_fn=<MseLossBackward0>)\n",
      "tensor(0.0515, dtype=torch.float64, grad_fn=<MseLossBackward0>)\n",
      "tensor(0.0506, dtype=torch.float64, grad_fn=<MseLossBackward0>)\n",
      "tensor(0.0502, dtype=torch.float64, grad_fn=<MseLossBackward0>)\n",
      "tensor(0.0501, dtype=torch.float64, grad_fn=<MseLossBackward0>)\n",
      "tensor(0.0501, dtype=torch.float64, grad_fn=<MseLossBackward0>)\n",
      "tensor(0.0497, dtype=torch.float64, grad_fn=<MseLossBackward0>)\n",
      "tensor(0.0503, dtype=torch.float64, grad_fn=<MseLossBackward0>)\n",
      "tensor(0.0495, dtype=torch.float64, grad_fn=<MseLossBackward0>)\n",
      "tensor(0.0509, dtype=torch.float64, grad_fn=<MseLossBackward0>)\n",
      "tensor(0.0494, dtype=torch.float64, grad_fn=<MseLossBackward0>)\n",
      "tensor(0.0494, dtype=torch.float64, grad_fn=<MseLossBackward0>)\n",
      "tensor(0.0495, dtype=torch.float64, grad_fn=<MseLossBackward0>)\n",
      "tensor(0.0490, dtype=torch.float64, grad_fn=<MseLossBackward0>)\n",
      "tensor(0.0489, dtype=torch.float64, grad_fn=<MseLossBackward0>)\n",
      "tensor(0.0491, dtype=torch.float64, grad_fn=<MseLossBackward0>)\n",
      "tensor(0.0494, dtype=torch.float64, grad_fn=<MseLossBackward0>)\n",
      "tensor(0.0487, dtype=torch.float64, grad_fn=<MseLossBackward0>)\n",
      "tensor(0.0506, dtype=torch.float64, grad_fn=<MseLossBackward0>)\n",
      "tensor(0.0498, dtype=torch.float64, grad_fn=<MseLossBackward0>)\n",
      "tensor(0.0485, dtype=torch.float64, grad_fn=<MseLossBackward0>)\n",
      "tensor(0.0488, dtype=torch.float64, grad_fn=<MseLossBackward0>)\n",
      "tensor(0.0484, dtype=torch.float64, grad_fn=<MseLossBackward0>)\n",
      "tensor(0.0489, dtype=torch.float64, grad_fn=<MseLossBackward0>)\n",
      "tensor(0.0483, dtype=torch.float64, grad_fn=<MseLossBackward0>)\n",
      "tensor(0.0482, dtype=torch.float64, grad_fn=<MseLossBackward0>)\n",
      "tensor(0.0483, dtype=torch.float64, grad_fn=<MseLossBackward0>)\n",
      "tensor(0.0483, dtype=torch.float64, grad_fn=<MseLossBackward0>)\n",
      "tensor(0.0484, dtype=torch.float64, grad_fn=<MseLossBackward0>)\n",
      "tensor(0.0481, dtype=torch.float64, grad_fn=<MseLossBackward0>)\n",
      "tensor(0.0479, dtype=torch.float64, grad_fn=<MseLossBackward0>)\n",
      "tensor(0.0479, dtype=torch.float64, grad_fn=<MseLossBackward0>)\n",
      "tensor(0.0481, dtype=torch.float64, grad_fn=<MseLossBackward0>)\n",
      "tensor(0.0491, dtype=torch.float64, grad_fn=<MseLossBackward0>)\n",
      "tensor(0.0478, dtype=torch.float64, grad_fn=<MseLossBackward0>)\n",
      "tensor(0.0480, dtype=torch.float64, grad_fn=<MseLossBackward0>)\n",
      "tensor(0.0481, dtype=torch.float64, grad_fn=<MseLossBackward0>)\n",
      "tensor(0.0476, dtype=torch.float64, grad_fn=<MseLossBackward0>)\n",
      "tensor(0.0475, dtype=torch.float64, grad_fn=<MseLossBackward0>)\n",
      "tensor(0.0476, dtype=torch.float64, grad_fn=<MseLossBackward0>)\n",
      "tensor(0.0477, dtype=torch.float64, grad_fn=<MseLossBackward0>)\n",
      "tensor(0.0474, dtype=torch.float64, grad_fn=<MseLossBackward0>)\n",
      "tensor(0.0476, dtype=torch.float64, grad_fn=<MseLossBackward0>)\n",
      "tensor(0.0484, dtype=torch.float64, grad_fn=<MseLossBackward0>)\n",
      "tensor(0.0478, dtype=torch.float64, grad_fn=<MseLossBackward0>)\n",
      "tensor(0.0475, dtype=torch.float64, grad_fn=<MseLossBackward0>)\n",
      "tensor(0.0475, dtype=torch.float64, grad_fn=<MseLossBackward0>)\n",
      "tensor(0.0475, dtype=torch.float64, grad_fn=<MseLossBackward0>)\n",
      "tensor(0.0473, dtype=torch.float64, grad_fn=<MseLossBackward0>)\n",
      "tensor(0.0475, dtype=torch.float64, grad_fn=<MseLossBackward0>)\n",
      "tensor(0.0472, dtype=torch.float64, grad_fn=<MseLossBackward0>)\n",
      "tensor(0.0470, dtype=torch.float64, grad_fn=<MseLossBackward0>)\n",
      "tensor(0.0472, dtype=torch.float64, grad_fn=<MseLossBackward0>)\n",
      "tensor(0.0470, dtype=torch.float64, grad_fn=<MseLossBackward0>)\n",
      "tensor(0.0469, dtype=torch.float64, grad_fn=<MseLossBackward0>)\n",
      "tensor(0.0468, dtype=torch.float64, grad_fn=<MseLossBackward0>)\n",
      "tensor(0.0473, dtype=torch.float64, grad_fn=<MseLossBackward0>)\n",
      "tensor(0.0469, dtype=torch.float64, grad_fn=<MseLossBackward0>)\n",
      "tensor(0.0469, dtype=torch.float64, grad_fn=<MseLossBackward0>)\n",
      "tensor(0.0467, dtype=torch.float64, grad_fn=<MseLossBackward0>)\n",
      "tensor(0.0467, dtype=torch.float64, grad_fn=<MseLossBackward0>)\n",
      "tensor(0.0469, dtype=torch.float64, grad_fn=<MseLossBackward0>)\n",
      "tensor(0.0466, dtype=torch.float64, grad_fn=<MseLossBackward0>)\n",
      "tensor(0.0465, dtype=torch.float64, grad_fn=<MseLossBackward0>)\n",
      "tensor(0.0465, dtype=torch.float64, grad_fn=<MseLossBackward0>)\n",
      "tensor(0.0465, dtype=torch.float64, grad_fn=<MseLossBackward0>)\n",
      "tensor(0.0465, dtype=torch.float64, grad_fn=<MseLossBackward0>)\n",
      "tensor(0.0464, dtype=torch.float64, grad_fn=<MseLossBackward0>)\n",
      "tensor(0.0465, dtype=torch.float64, grad_fn=<MseLossBackward0>)\n",
      "tensor(0.0463, dtype=torch.float64, grad_fn=<MseLossBackward0>)\n",
      "tensor(0.0462, dtype=torch.float64, grad_fn=<MseLossBackward0>)\n"
     ]
    }
   ],
   "source": [
    "loss_fn = torch.nn.MSELoss()\n",
    "coef = torch.zeros((3, 1), dtype=torch.float64, requires_grad=True)\n",
    "optimizer = torch.optim.SGD([coef], lr=0.001)\n",
    "\n",
    "for epoch in range(100):\n",
    "    for batchX, batchY in dl:\n",
    "        predictions = batchX @ coef\n",
    "        loss = loss_fn(predictions, batchY)\n",
    "        loss.backward()   # computes gradient, and adds it to coef.grad\n",
    "        optimizer.step()\n",
    "        optimizer.zero_grad()\n",
    "\n",
    "    X, Y = train[:]\n",
    "    print(loss_fn(X @ coef, Y))"
   ]
  },
  {
   "cell_type": "markdown",
   "id": "449e7a31-0044-4c1d-ae46-8866bd6da378",
   "metadata": {},
   "source": [
    "Final step - check MSE using test dataset"
   ]
  },
  {
   "cell_type": "code",
   "execution_count": 23,
   "id": "fb174814-fc2e-472b-b1b7-da04d54c6ff9",
   "metadata": {},
   "outputs": [
    {
     "name": "stdout",
     "output_type": "stream",
     "text": [
      "tensor(0.0405, dtype=torch.float64, grad_fn=<MseLossBackward0>)\n"
     ]
    }
   ],
   "source": [
    "X, Y = test[:]\n",
    "print(loss_fn(X @ coef, Y))"
   ]
  },
  {
   "cell_type": "code",
   "execution_count": null,
   "id": "3bf611bf-83cc-43eb-ac60-d4f5a55d39b6",
   "metadata": {},
   "outputs": [],
   "source": []
  }
 ],
 "metadata": {
  "kernelspec": {
   "display_name": "Python 3 (ipykernel)",
   "language": "python",
   "name": "python3"
  },
  "language_info": {
   "codemirror_mode": {
    "name": "ipython",
    "version": 3
   },
   "file_extension": ".py",
   "mimetype": "text/x-python",
   "name": "python",
   "nbconvert_exporter": "python",
   "pygments_lexer": "ipython3",
   "version": "3.11.6"
  }
 },
 "nbformat": 4,
 "nbformat_minor": 5
}
