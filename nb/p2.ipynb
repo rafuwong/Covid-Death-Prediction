{
 "cells": [
  {
   "cell_type": "code",
   "execution_count": 1,
   "id": "eea25cdf-933e-49ce-bf03-9a74cbcc5903",
   "metadata": {},
   "outputs": [],
   "source": [
    "import pandas as pd\n",
    "import torch\n",
    "import numpy as np"
   ]
  },
  {
   "cell_type": "markdown",
   "id": "4b78d431-b377-4a2e-9726-c6ada0bde535",
   "metadata": {},
   "source": [
    "## Part 1: Setup"
   ]
  },
  {
   "cell_type": "code",
   "execution_count": 2,
   "id": "702e7841-f0f5-4a3d-96b3-36b0c6b79c84",
   "metadata": {},
   "outputs": [],
   "source": [
    "test_df = pd.read_csv(\"test.csv\")\n",
    "train_df = pd.read_csv(\"train.csv\")"
   ]
  },
  {
   "cell_type": "code",
   "execution_count": 3,
   "id": "22abe84e-08c5-48f9-b814-05d013e0977e",
   "metadata": {},
   "outputs": [],
   "source": [
    "#Display cell to practice slicing columns\n",
    "#test_df.iloc[:,0:-1] #X values \n",
    "#test_df.iloc[:,-1].values #Y values"
   ]
  },
  {
   "cell_type": "code",
   "execution_count": 4,
   "id": "696b74b9-123c-4bc9-963d-510fd0495af0",
   "metadata": {},
   "outputs": [],
   "source": [
    "test_ds = torch.utils.data.TensorDataset(\n",
    "    torch.tensor(test_df.iloc[:,0:-1].values, dtype=torch.float64), # X Values\n",
    "    torch.tensor(test_df.iloc[:,-1].values, dtype=torch.float64), # Y Values\n",
    ")\n",
    "\n",
    "train_ds = torch.utils.data.TensorDataset(\n",
    "    torch.tensor(train_df.iloc[:,0:-1].values, dtype = torch.float64), # X Values\n",
    "    torch.tensor(train_df.iloc[:,-1].values, dtype = torch.float64), # Y Values\n",
    ")"
   ]
  },
  {
   "cell_type": "code",
   "execution_count": 5,
   "id": "81726a92-7601-4676-b9a1-9f8600876ffd",
   "metadata": {},
   "outputs": [],
   "source": [
    "#Create the datasets for testing and training\n",
    "testX, testY = test_ds[:]\n",
    "testY = testY.view(-1,1)\n",
    "trainX, trainY = train_ds[:]\n",
    "trainY = trainY.view(-1,1)"
   ]
  },
  {
   "cell_type": "code",
   "execution_count": 6,
   "id": "e5463474-361f-4905-a82b-42e2e5949c5a",
   "metadata": {},
   "outputs": [],
   "source": [
    "#trainY Display Code to check for correctness"
   ]
  },
  {
   "cell_type": "code",
   "execution_count": 7,
   "id": "515289ec-ea79-4c71-99cc-6d06df77bc8f",
   "metadata": {},
   "outputs": [],
   "source": [
    "#testY[:5] Display Code to check for correctness"
   ]
  },
  {
   "cell_type": "code",
   "execution_count": 8,
   "id": "fb87429b-8329-4d07-879d-66ccfb1f3829",
   "metadata": {},
   "outputs": [
    {
     "data": {
      "text/plain": [
       "83520"
      ]
     },
     "execution_count": 8,
     "metadata": {},
     "output_type": "execute_result"
    }
   ],
   "source": [
    "#Q1 \n",
    "\n",
    "#How many bytes does trainX consume\n",
    "\n",
    "#Consumption (Bytes) = num of elements * element size\n",
    "trainX_elem_size = trainX.element_size()\n",
    "trainX_num_elements = trainX.numel()\n",
    "consumption = trainX_elem_size * trainX_num_elements\n",
    "consumption\n",
    "\n",
    "#print(f\"The tensor trainX takes up {consumption} kilobytes\")"
   ]
  },
  {
   "cell_type": "code",
   "execution_count": 9,
   "id": "d540389b-f8cd-46da-b8b6-413efb8733c5",
   "metadata": {},
   "outputs": [
    {
     "data": {
      "text/plain": [
       "0.0"
      ]
     },
     "execution_count": 9,
     "metadata": {},
     "output_type": "execute_result"
    }
   ],
   "source": [
    "#Q2\n",
    "\n",
    "#Convert trainX to float16\n",
    "trainX_flt16 = trainX.to(dtype=torch.float16)\n",
    "\n",
    "#Then convert back again to float64\n",
    "trainX_flt64 = trainX_flt16.to(dtype=torch.float64)\n",
    "\n",
    "#Take the resulting tensor (trainX_flt64) and subtract from the original (floatX)\n",
    "difference_tensor = trainX - trainX_flt64\n",
    "\n",
    "#Make the elements in diff tensor absolute\n",
    "abs_diff_tensor = torch.abs(difference_tensor)\n",
    "#Find the max value in the tensor\n",
    "max_abs_diff_tensor = torch.max(abs_diff_tensor)\n",
    "\n",
    "#Display as a python float\n",
    "max_abs_diff_tensor.item()"
   ]
  },
  {
   "cell_type": "code",
   "execution_count": 10,
   "id": "e1f0f2a9-47de-466d-a1a0-a8f49f541524",
   "metadata": {},
   "outputs": [
    {
     "data": {
      "text/plain": [
       "False"
      ]
     },
     "execution_count": 10,
     "metadata": {},
     "output_type": "execute_result"
    }
   ],
   "source": [
    "#Q3 \n",
    "\n",
    "#Is a CUDA GPU available on your VM?\n",
    "torch.cuda.is_available()"
   ]
  },
  {
   "cell_type": "markdown",
   "id": "cc346a82-3dfb-446f-a85d-98fcd5d85337",
   "metadata": {},
   "source": [
    "## Part 2: Prediction with Hardcoded Model"
   ]
  },
  {
   "cell_type": "code",
   "execution_count": 11,
   "id": "67dc7bcb-0f91-4b8e-be7c-e19f295456c3",
   "metadata": {},
   "outputs": [
    {
     "data": {
      "text/plain": [
       "tensor([[0.0040],\n",
       "        [0.0040],\n",
       "        [0.0040],\n",
       "        [0.0040],\n",
       "        [0.0040],\n",
       "        [0.0040],\n",
       "        [0.0300],\n",
       "        [0.0300],\n",
       "        [0.0300],\n",
       "        [0.0300]], dtype=torch.float64)"
      ]
     },
     "execution_count": 11,
     "metadata": {},
     "output_type": "execute_result"
    }
   ],
   "source": [
    "#Encode these assumptions as coefficients in a tensor by pasting the following:\n",
    "coef = torch.tensor([\n",
    "        [0.0040],\n",
    "        [0.0040],\n",
    "        [0.0040],\n",
    "        [0.0040],\n",
    "        [0.0040],\n",
    "        [0.0040], # POS_50_59_CP\n",
    "        [0.0300], # POS_60_69_CP\n",
    "        [0.0300],\n",
    "        [0.0300],\n",
    "        [0.0300]\n",
    "], dtype=trainX.dtype)\n",
    "coef"
   ]
  },
  {
   "cell_type": "code",
   "execution_count": 12,
   "id": "acb63e4f-6969-4094-89bb-698649232894",
   "metadata": {},
   "outputs": [
    {
     "data": {
      "text/plain": [
       "9.844"
      ]
     },
     "execution_count": 12,
     "metadata": {},
     "output_type": "execute_result"
    }
   ],
   "source": [
    "#Q4 \n",
    "\n",
    "#What is the predicted number of deaths for the first census tract?\n",
    "first_census_tract = (testX[0] @ coef).item()\n",
    "first_census_tract"
   ]
  },
  {
   "cell_type": "code",
   "execution_count": 13,
   "id": "d95e1d74-4376-4dd5-aa3f-121e6f34f2a5",
   "metadata": {},
   "outputs": [
    {
     "data": {
      "text/plain": [
       "12.073632183908048"
      ]
     },
     "execution_count": 13,
     "metadata": {},
     "output_type": "execute_result"
    }
   ],
   "source": [
    "#Q5 \n",
    "\n",
    "#What is the average number of predicted deaths, over the whole testX dataset?\n",
    "pred_deaths = testX @ coef #calculate pred_death tensor\n",
    "average_deaths = pred_deaths.mean().item() #Find average of pred_death tensor\n",
    "\n",
    "average_deaths"
   ]
  },
  {
   "cell_type": "markdown",
   "id": "96cea2c4-b6d6-4e20-9a41-61edce943742",
   "metadata": {},
   "source": [
    "## Part 3\n",
    "\n",
    "Say y = x^2 - 8x + 19 find the value x that minimizes y,"
   ]
  },
  {
   "cell_type": "code",
   "execution_count": 14,
   "id": "e608c575-4ae4-4ae7-8d40-d6fcff210d46",
   "metadata": {},
   "outputs": [
    {
     "data": {
      "text/plain": [
       "19.0"
      ]
     },
     "execution_count": 14,
     "metadata": {},
     "output_type": "execute_result"
    }
   ],
   "source": [
    "#Q6 \n",
    "#first, what is y when x is a tensor containing 0.0\n",
    "\n",
    "x = torch.tensor(0.0)\n",
    "y = x ** 2 - 8 * x + 19\n",
    "float(y)"
   ]
  },
  {
   "cell_type": "code",
   "execution_count": 15,
   "id": "d5c60931-856b-4624-85f9-a0658f9bece8",
   "metadata": {},
   "outputs": [
    {
     "data": {
      "text/plain": [
       "3.999999523162842"
      ]
     },
     "execution_count": 15,
     "metadata": {},
     "output_type": "execute_result"
    }
   ],
   "source": [
    "#Q7 \n",
    "\n",
    "# What x value minimizes y?\n",
    "x = torch.tensor(0.0, requires_grad=True)\n",
    "optimizer = torch.optim.SGD([x], lr = .1)\n",
    "\n",
    "for run in range(100):\n",
    "\n",
    "    #Find value for y\n",
    "    y = x ** 2 - 8 * x + 19\n",
    "\n",
    "    #Find gradient value\n",
    "    optimizer.zero_grad() #Reset the grad on optimizer\n",
    "    y.backward()\n",
    "\n",
    "    #Update the x via optimizer\n",
    "    optimizer.step()\n",
    "\n",
    "optimal_x = x.item()\n",
    "optimal_x"
   ]
  },
  {
   "cell_type": "markdown",
   "id": "4a0223f4-6d7d-4d68-bf3a-4683bfc06d98",
   "metadata": {},
   "source": [
    "## Part 4: Linear Regression"
   ]
  },
  {
   "cell_type": "code",
   "execution_count": 16,
   "id": "970206f2-04d8-4633-9db8-ee9c2767a4f5",
   "metadata": {},
   "outputs": [
    {
     "data": {
      "text/plain": [
       "torch.Size([1044, 10])"
      ]
     },
     "execution_count": 16,
     "metadata": {},
     "output_type": "execute_result"
    }
   ],
   "source": [
    "#Looking at the shape of trainX\n",
    "trainX.shape"
   ]
  },
  {
   "cell_type": "code",
   "execution_count": 17,
   "id": "8212a70b-4ecf-42a9-ab39-cb89c70cc11e",
   "metadata": {},
   "outputs": [
    {
     "data": {
      "text/plain": [
       "torch.Size([1044, 1])"
      ]
     },
     "execution_count": 17,
     "metadata": {},
     "output_type": "execute_result"
    }
   ],
   "source": [
    "#Looking at shape of trainY\n",
    "trainY.shape"
   ]
  },
  {
   "cell_type": "code",
   "execution_count": 18,
   "id": "d9f2fc3f-2bd7-41df-af69-00e75b21f5c2",
   "metadata": {},
   "outputs": [
    {
     "data": {
      "text/plain": [
       "197.8007662835249"
      ]
     },
     "execution_count": 18,
     "metadata": {},
     "output_type": "execute_result"
    }
   ],
   "source": [
    "#Q8 \n",
    "\n",
    "#What is the MSE (mean-square-error) when we make predictions using the zero vector?\n",
    "#Code from ml_opt.ipynb and adjusted for trainX and trainY shape\n",
    "coef = torch.zeros((10,1), dtype=torch.float64, requires_grad=True)\n",
    "loss_fn = torch.nn.MSELoss()\n",
    "mse_zero_vector = loss_fn(trainX @ coef, trainY) #Compare trainX @ coef to trainY\n",
    "mse_zero_vector.item()\n",
    "\n",
    "\n"
   ]
  },
  {
   "cell_type": "markdown",
   "id": "445c5824-ad97-4788-8f0c-40a01f6d95ff",
   "metadata": {},
   "source": [
    "### Optimization"
   ]
  },
  {
   "cell_type": "code",
   "execution_count": 19,
   "id": "9b7c2bae-1047-41f7-a253-5850857b146c",
   "metadata": {},
   "outputs": [],
   "source": [
    "#Setup a training dataset data loader like this:\n",
    "ds = torch.utils.data.TensorDataset(trainX, trainY)\n",
    "dl = torch.utils.data.DataLoader(ds, batch_size=50, shuffle=True)\n",
    "\n",
    "#Use torch.optim.SGD and use 0.000002 learning rate\n",
    "loss_fn = torch.nn.MSELoss()\n",
    "optimizer = torch.optim.SGD([coef], lr = 0.000002)\n",
    "\n",
    "#Run for 500 epochs code from ml_opt.ipynb and adjusted for this exercise\n",
    "for epoch in range(500):\n",
    "    for batchX, batchY in dl: \n",
    "        predictions = batchX @ coef\n",
    "        loss = loss_fn(predictions, batchY)\n",
    "        loss.backward()\n",
    "        optimizer.step()\n",
    "        optimizer.zero_grad()\n",
    "\n",
    "    #Debugger to see if MSE tensors are being outputted\n",
    "    # X, Y = ds[:]\n",
    "    # print(loss_fn(X @ coef, Y))\n",
    "    \n"
   ]
  },
  {
   "cell_type": "code",
   "execution_count": 20,
   "id": "c9beec1f-9aaf-424b-a5db-d2dba7bf55bf",
   "metadata": {},
   "outputs": [
    {
     "data": {
      "text/plain": [
       "26.622213540277947"
      ]
     },
     "execution_count": 20,
     "metadata": {},
     "output_type": "execute_result"
    }
   ],
   "source": [
    "#Q9\n",
    "\n",
    "# What is the MSE over the training data from the above training?\n",
    "loss_fn(trainX @ coef, trainY).item()"
   ]
  },
  {
   "cell_type": "code",
   "execution_count": 21,
   "id": "50ebb552-9646-4f7f-b4de-6f1e930285da",
   "metadata": {},
   "outputs": [
    {
     "data": {
      "text/plain": [
       "28.832880030053065"
      ]
     },
     "execution_count": 21,
     "metadata": {},
     "output_type": "execute_result"
    }
   ],
   "source": [
    "#Q10 \n",
    "\n",
    "#What is the MSE over the test data?\n",
    "loss_fn(testX @ coef, testY).item()"
   ]
  },
  {
   "cell_type": "code",
   "execution_count": null,
   "id": "c71ade77-7d58-4872-b582-27bb7fce8cc7",
   "metadata": {},
   "outputs": [],
   "source": []
  },
  {
   "cell_type": "code",
   "execution_count": null,
   "id": "c09c4711-2623-4a45-ab8d-f4866487f19a",
   "metadata": {},
   "outputs": [],
   "source": []
  },
  {
   "cell_type": "code",
   "execution_count": null,
   "id": "cc9ac364-e69d-4455-bcc3-aff3332bd285",
   "metadata": {},
   "outputs": [],
   "source": []
  }
 ],
 "metadata": {
  "kernelspec": {
   "display_name": "Python 3 (ipykernel)",
   "language": "python",
   "name": "python3"
  },
  "language_info": {
   "codemirror_mode": {
    "name": "ipython",
    "version": 3
   },
   "file_extension": ".py",
   "mimetype": "text/x-python",
   "name": "python",
   "nbconvert_exporter": "python",
   "pygments_lexer": "ipython3",
   "version": "3.11.6"
  }
 },
 "nbformat": 4,
 "nbformat_minor": 5
}
